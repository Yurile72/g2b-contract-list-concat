{
 "cells": [
  {
   "cell_type": "code",
   "execution_count": 4,
   "id": "ed83448c-fba2-46ba-ab15-b3c7cbf527ae",
   "metadata": {},
   "outputs": [
    {
     "name": "stdout",
     "output_type": "stream",
     "text": [
      "Requirement already satisfied: requests in /opt/conda/lib/python3.9/site-packages (2.27.1)\n",
      "Requirement already satisfied: urllib3<1.27,>=1.21.1 in /opt/conda/lib/python3.9/site-packages (from requests) (1.26.9)\n",
      "Requirement already satisfied: idna<4,>=2.5 in /opt/conda/lib/python3.9/site-packages (from requests) (3.3)\n",
      "Requirement already satisfied: charset-normalizer~=2.0.0 in /opt/conda/lib/python3.9/site-packages (from requests) (2.0.12)\n",
      "Requirement already satisfied: certifi>=2017.4.17 in /opt/conda/lib/python3.9/site-packages (from requests) (2021.10.8)\n",
      "Note: you may need to restart the kernel to use updated packages.\n"
     ]
    }
   ],
   "source": [
    "pip install requests"
   ]
  },
  {
   "cell_type": "code",
   "execution_count": 3,
   "id": "1702f23e-7edd-4291-bd60-960ff7de7a0b",
   "metadata": {},
   "outputs": [],
   "source": [
    "import pandas as pd\n",
    "import numpy as np\n",
    "import re\n",
    "import matplotlib.pyplot as plt\n",
    "import os\n",
    "import glob"
   ]
  },
  {
   "cell_type": "code",
   "execution_count": 4,
   "id": "31be4397-56b8-4710-a8f0-be8710e0ddfe",
   "metadata": {},
   "outputs": [],
   "source": [
    "# files = glob.glob(\"*.csv\")\n",
    "forders = os.listdir('xlsx2csv/csv')\n",
    "df_all_list = pd.DataFrame()"
   ]
  },
  {
   "cell_type": "code",
   "execution_count": 7,
   "id": "0d598dfe-c448-4adc-83b1-16698e641ac8",
   "metadata": {},
   "outputs": [],
   "source": [
    "# # df_list = pd.DataFrame()\n",
    "# for files in forders:\n",
    "#     try:\n",
    "#         path_ = \"xlsx2csv/csv\" + files\n",
    "#         data = pd.read_csv(path_, encoding='UTF-8', low_memory=False)\n",
    "#         # data = pd.read_csv(path_, engine='python')\n",
    "#         df_all_list = pd.concat([df_all_list, data])\n",
    "#     except:\n",
    "#         print(files)\n",
    "\n",
    "#     # print(path_)\n",
    "# df_all_list.to_csv(\"concat_list_2004-2203.csv\")\n",
    "# # df = pd.concat(df_list)\n",
    "\n",
    "# df_list = pd.DataFrame()\n",
    "for files in forders:\n",
    "    path_ = \"xlsx2csv/csv/\" + files\n",
    "    data = pd.read_csv(path_, encoding='UTF-8', low_memory=False)\n",
    "    # data = pd.read_csv(path_, engine='python')\n",
    "    df_all_list = pd.concat([df_all_list, data])\n",
    "\n",
    "\n",
    "    # print(path_)\n",
    "df_all_list.to_csv(\"concat_list_2004-2203.csv\")\n",
    "# df = pd.concat(df_list)"
   ]
  },
  {
   "cell_type": "code",
   "execution_count": 19,
   "id": "50aa0db2-69b4-4fec-8a0f-5c51455ba01c",
   "metadata": {},
   "outputs": [
    {
     "data": {
      "text/plain": [
       "['concat_list_1806-1912.csv', 'concat_list_1301-1805.csv']"
      ]
     },
     "execution_count": 19,
     "metadata": {},
     "output_type": "execute_result"
    }
   ],
   "source": [
    "# files = glob.glob(\"*.csv\")\n",
    "forders"
   ]
  },
  {
   "cell_type": "code",
   "execution_count": null,
   "id": "3ee7fe44-303f-4625-b435-6410f20c6d3a",
   "metadata": {},
   "outputs": [],
   "source": [
    "# # df_list = pd.DataFrame()\n",
    "# for files in forders:\n",
    "#     try:\n",
    "#         path_ = \"csv_list/concat2/\" + files\n",
    "#         data = pd.read_csv(path_, encoding='UTF-8', low_memory=False)\n",
    "#         # data = pd.read_csv(path_, engine='python')\n",
    "#         df_all_list = pd.concat([df_all_list, data])\n",
    "#     except:\n",
    "#         print(files)\n",
    "\n",
    "#     # print(path_)\n",
    "# df_all_list.to_csv(\"concat_list_1806-1912.csv\")\n",
    "# # df = pd.concat(df_list)"
   ]
  }
 ],
 "metadata": {
  "kernelspec": {
   "display_name": "Python 3 (ipykernel)",
   "language": "python",
   "name": "python3"
  },
  "language_info": {
   "codemirror_mode": {
    "name": "ipython",
    "version": 3
   },
   "file_extension": ".py",
   "mimetype": "text/x-python",
   "name": "python",
   "nbconvert_exporter": "python",
   "pygments_lexer": "ipython3",
   "version": "3.9.10"
  }
 },
 "nbformat": 4,
 "nbformat_minor": 5
}
