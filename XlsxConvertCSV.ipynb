{
 "cells": [
  {
   "cell_type": "code",
   "execution_count": 11,
   "id": "b64b92b2-c7c2-400c-bb8c-608360b50bf1",
   "metadata": {},
   "outputs": [],
   "source": [
    "import pandas as pd\n",
    "import numpy as np\n",
    "import re\n",
    "import matplotlib.pyplot as plt\n",
    "import os\n",
    "import glob"
   ]
  },
  {
   "cell_type": "code",
   "execution_count": null,
   "id": "f54b6738-77e6-4b58-b646-4b8ea8b1b234",
   "metadata": {},
   "outputs": [],
   "source": [
    "excel_files = glob.glob('./xlsx2csv/xlsx/*.xlsx') # assume the path\n",
    "\n",
    "for excel in excel_files:\n",
    "    # out = excel.split('.')[0]+'.csv'\n",
    "    df = pd.read_excel(excel) # if only the first sheet is needed.\n",
    "    df.to_csv(f'{excel}.csv')"
   ]
  },
  {
   "cell_type": "code",
   "execution_count": null,
   "id": "335e7766-6408-4c2e-b278-24818ddbd0d7",
   "metadata": {},
   "outputs": [],
   "source": []
  }
 ],
 "metadata": {
  "kernelspec": {
   "display_name": "Python 3 (ipykernel)",
   "language": "python",
   "name": "python3"
  },
  "language_info": {
   "codemirror_mode": {
    "name": "ipython",
    "version": 3
   },
   "file_extension": ".py",
   "mimetype": "text/x-python",
   "name": "python",
   "nbconvert_exporter": "python",
   "pygments_lexer": "ipython3",
   "version": "3.9.10"
  }
 },
 "nbformat": 4,
 "nbformat_minor": 5
}
