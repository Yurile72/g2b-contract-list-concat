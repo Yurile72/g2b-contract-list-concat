{
 "cells": [
  {
   "cell_type": "code",
   "execution_count": 1,
   "id": "d3d9ef8d-5086-42da-a94a-d4367d82f6d2",
   "metadata": {},
   "outputs": [],
   "source": [
    "import pandas as pd\n",
    "import numpy as np\n",
    "import re\n",
    "import matplotlib.pyplot as plt\n",
    "import os\n",
    "import glob"
   ]
  },
  {
   "cell_type": "code",
   "execution_count": 4,
   "id": "5b5a2417-d2a4-4a68-bbb2-80f2f38f2f0c",
   "metadata": {},
   "outputs": [],
   "source": [
    "# files = glob.glob(\"*.csv\")\n",
    "df_list = pd.DataFrame()\n",
    "data1 = pd.read_csv('ResultFilter1301-1912.csv', encoding='UTF-8', low_memory=False)"
   ]
  },
  {
   "cell_type": "code",
   "execution_count": 5,
   "id": "b7f48ef1-391a-4d46-92cd-579c98363e55",
   "metadata": {},
   "outputs": [],
   "source": [
    "# files = glob.glob(\"*.csv\")\n",
    "df_list = pd.DataFrame()\n",
    "data2 = pd.read_csv('ResultFilter2002-2203.csv', encoding='UTF-8', low_memory=False)"
   ]
  },
  {
   "cell_type": "code",
   "execution_count": 8,
   "id": "64c94216-80ad-4a7e-8b8f-fea9c258b426",
   "metadata": {},
   "outputs": [
    {
     "data": {
      "text/plain": [
       "Unnamed: 0                                           7519\n",
       "등록유형                                            나라장터(G2B)\n",
       "조달구분                                                 자체조달\n",
       "계약번호                                          2019080A344\n",
       "최종계약여부                                                  Y\n",
       "수요기관명                                       강릉원주대학교 산학협력단\n",
       "수요기관구분                                               기타기관\n",
       "계약건명                                    실시간 유전자 증폭정량장치 구매\n",
       "물품분류번호                                         41106307.0\n",
       "품명                                     중합효소연쇄반응(PCR)최적화제품\n",
       "세부물품분류번호                                     4110630701.0\n",
       "세부품명                                               유전자증폭기\n",
       "물품식별번호                                         22869618.0\n",
       "품목            유전자증폭기, Life technologies, SG/QuantStudio 3\n",
       "최초계약일자                                         20190826.0\n",
       "계약일자                                             20190826\n",
       "단가                                             29700000.0\n",
       "수량                                                    1.0\n",
       "금액                                             29700000.0\n",
       "증감수량                                                  1.0\n",
       "증감금액                                           29700000.0\n",
       "계약수량                                                  1.0\n",
       "계약금액                                           29700000.0\n",
       "업체명                                            주식회사 유비코리아\n",
       "업체기업구분명                                              중소기업\n",
       "Name: 100, dtype: object"
      ]
     },
     "execution_count": 8,
     "metadata": {},
     "output_type": "execute_result"
    }
   ],
   "source": [
    "data1.loc[100]"
   ]
  },
  {
   "cell_type": "code",
   "execution_count": 9,
   "id": "8488c730-bc4f-4fd0-8b88-16c56efe1f9b",
   "metadata": {},
   "outputs": [],
   "source": [
    "df_all_list = pd.DataFrame()"
   ]
  },
  {
   "cell_type": "code",
   "execution_count": 11,
   "id": "c7c49321-1e2c-45cb-a0b0-b214eed0c70c",
   "metadata": {},
   "outputs": [],
   "source": [
    "df_all_list = pd.concat([df_all_list, data2])"
   ]
  },
  {
   "cell_type": "code",
   "execution_count": 12,
   "id": "d47ad2bd-e65a-4fd5-90b5-13a75b458fdd",
   "metadata": {},
   "outputs": [],
   "source": [
    "df_all_list.to_csv(\"concat_list_1.csv\")"
   ]
  },
  {
   "cell_type": "code",
   "execution_count": 14,
   "id": "d072e3c4-1587-419b-9e61-85365461763d",
   "metadata": {},
   "outputs": [],
   "source": [
    "# files = glob.glob(\"*.csv\")\n",
    "filter_df_list = pd.DataFrame()\n",
    "filter_list = pd.read_csv('filter_shin.csv', encoding='EUC-KR', low_memory=False)"
   ]
  },
  {
   "cell_type": "code",
   "execution_count": 17,
   "id": "a2995aa0-0f50-477f-898f-ce2dfc2f4e94",
   "metadata": {},
   "outputs": [],
   "source": [
    "fil2list = filter_list['세부품명'].to_list()\n",
    "filterDf = pd.DataFrame() \n",
    "result = df_all_list[df_all_list['세부품명'].isin(fil2list)]"
   ]
  },
  {
   "cell_type": "code",
   "execution_count": 18,
   "id": "7904d69e-0e65-452a-996c-717818a2d4c7",
   "metadata": {},
   "outputs": [],
   "source": [
    "result.to_csv(\"concat_list_2.csv\")"
   ]
  },
  {
   "cell_type": "code",
   "execution_count": null,
   "id": "947af34b-25f5-43c9-ae67-870277a48c5c",
   "metadata": {},
   "outputs": [],
   "source": []
  }
 ],
 "metadata": {
  "kernelspec": {
   "display_name": "Python 3 (ipykernel)",
   "language": "python",
   "name": "python3"
  },
  "language_info": {
   "codemirror_mode": {
    "name": "ipython",
    "version": 3
   },
   "file_extension": ".py",
   "mimetype": "text/x-python",
   "name": "python",
   "nbconvert_exporter": "python",
   "pygments_lexer": "ipython3",
   "version": "3.9.10"
  }
 },
 "nbformat": 4,
 "nbformat_minor": 5
}
